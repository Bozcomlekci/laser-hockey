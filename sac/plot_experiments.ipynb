{
 "cells": [
  {
   "attachments": {},
   "cell_type": "markdown",
   "metadata": {},
   "source": [
    "### Batuhan Oezcoemlekci - SAC Agent Experiments"
   ]
  },
  {
   "attachments": {},
   "cell_type": "markdown",
   "metadata": {},
   "source": [
    "If you would like to visualize the game or extract the evaluation data run `sac/evaluate_agent.py` or `sac/compile_evaluation.py` respectively. \n",
    "\n",
    "This notebook is only for plotting/visualizing the compiled evaluations/experiments"
   ]
  },
  {
   "cell_type": "code",
   "execution_count": null,
   "metadata": {},
   "outputs": [],
   "source": [
    "import json\n",
    "import matplotlib.pyplot as plt\n",
    "\n",
    "json_file_name = f'sac/experiment.json'\n",
    "# load experiment.json file\n",
    "with open(json_file_name) as json_file:\n",
    "    experiment_dict = json.load(json_file)\n",
    "\n",
    "for key, exp_dict in experiment_dict.items():\n",
    "    \n",
    "    \n"
   ]
  },
  {
   "cell_type": "code",
   "execution_count": null,
   "metadata": {},
   "outputs": [],
   "source": []
  }
 ],
 "metadata": {
  "language_info": {
   "name": "python"
  },
  "orig_nbformat": 4
 },
 "nbformat": 4,
 "nbformat_minor": 2
}
